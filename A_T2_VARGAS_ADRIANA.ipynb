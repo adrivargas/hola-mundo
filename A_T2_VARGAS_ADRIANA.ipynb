{
  "nbformat": 4,
  "nbformat_minor": 0,
  "metadata": {
    "colab": {
      "provenance": [],
      "authorship_tag": "ABX9TyNCOcJzVykThiSg9gOi8PK1",
      "include_colab_link": true
    },
    "kernelspec": {
      "name": "python3",
      "display_name": "Python 3"
    },
    "language_info": {
      "name": "python"
    }
  },
  "cells": [
    {
      "cell_type": "markdown",
      "metadata": {
        "id": "view-in-github",
        "colab_type": "text"
      },
      "source": [
        "<a href=\"https://colab.research.google.com/github/adrivargas/hola-mundo/blob/main/A_T2_VARGAS_ADRIANA.ipynb\" target=\"_parent\"><img src=\"https://colab.research.google.com/assets/colab-badge.svg\" alt=\"Open In Colab\"/></a>"
      ]
    },
    {
      "cell_type": "markdown",
      "source": [
        "**Trabajo 2 TIC**\n",
        "##**TECNOLOGIAS DE LA INFORMACIÓN Y COMUNICACIÓN**\n",
        "\n",
        "### UNIDAD 3 - HERRAMIENTAS COLABORATIVAS EN LÍNEA\n",
        "\n",
        "---"
      ],
      "metadata": {
        "id": "JB6Y92eRrspv"
      }
    },
    {
      "cell_type": "markdown",
      "source": [
        "Hola Mundo: Escribe un programa que imprima \"Hola, Mundo!\" en la pantalla.\n"
      ],
      "metadata": {
        "id": "0aXzkUkf2x7G"
      }
    },
    {
      "cell_type": "code",
      "execution_count": null,
      "metadata": {
        "colab": {
          "base_uri": "https://localhost:8080/"
        },
        "id": "ozYwpzoNrfOp",
        "outputId": "d22e4bef-87b1-49c5-92e5-426e60138608"
      },
      "outputs": [
        {
          "output_type": "stream",
          "name": "stdout",
          "text": [
            "Hola mundo\n"
          ]
        }
      ],
      "source": [
        "print (\"Hola mundo\")"
      ]
    },
    {
      "cell_type": "markdown",
      "source": [
        "**Suma de dos números:** Escribe un programa que pida al usuario dos números y los sume.\n"
      ],
      "metadata": {
        "id": "bFjPA8W4szQ3"
      }
    },
    {
      "cell_type": "code",
      "source": [
        "# Solicita al usuario que ingrese un número y lo convierte a un entero\n",
        "num1 = int(input(\"Ingrese un número: \"))\n",
        "\n",
        "# Solicita al usuario que ingrese otro número y lo convierte a un entero\n",
        "num2 = int(input(\"Ingrese un número: \"))\n",
        "\n",
        "# Suma los dos números ingresados\n",
        "suma = num1 + num2\n",
        "\n",
        "# Imprime el resultado de la suma\n",
        "print(suma)\n"
      ],
      "metadata": {
        "colab": {
          "base_uri": "https://localhost:8080/"
        },
        "id": "MboKtUAqsM8u",
        "outputId": "182fe28f-9cc9-4907-e064-6c9d45a7f134"
      },
      "execution_count": null,
      "outputs": [
        {
          "output_type": "stream",
          "name": "stdout",
          "text": [
            "Ingrese un numero: 5\n",
            "Ingrese un numero: 2\n",
            "7\n"
          ]
        }
      ]
    },
    {
      "cell_type": "markdown",
      "source": [
        "**Par o Impar:** Escribe un programa que determine si un número introducido por el usuario es par o impar."
      ],
      "metadata": {
        "id": "TjAjbkqus3k3"
      }
    },
    {
      "cell_type": "code",
      "source": [
        "# Solicita al usuario que ingrese un número y lo convierte a un entero\n",
        "num1 = int(input(\"Ingrese un número: \"))\n",
        "\n",
        "# Verifica si el número ingresado es par\n",
        "if num1 % 2 == 0:\n",
        "  # Si el número es par, imprime el mensaje correspondiente\n",
        "  print(\"El número es par\")\n",
        "else:\n",
        "  # Si el número es impar, imprime el mensaje correspondiente\n",
        "  print(\"El número es impar\")\n"
      ],
      "metadata": {
        "colab": {
          "base_uri": "https://localhost:8080/"
        },
        "id": "3dfjctQJtGGr",
        "outputId": "61a04201-55e2-434d-eff6-16c7b6d578a5"
      },
      "execution_count": null,
      "outputs": [
        {
          "output_type": "stream",
          "name": "stdout",
          "text": [
            "Ingrese un numero: 2\n",
            "El numero es par: \n"
          ]
        }
      ]
    },
    {
      "cell_type": "markdown",
      "source": [
        "**Calculadora básica**: Escribe un programa que realice operaciones básicas (suma, resta, multiplicación y división) entre dos números introducidos por el usuario."
      ],
      "metadata": {
        "id": "iJtRY5SutXRN"
      }
    },
    {
      "cell_type": "code",
      "source": [
        "# Solicita al usuario que ingrese el primer número y lo convierte a un entero\n",
        "num1 = int(input(\"Ingrese un número: \"))\n",
        "\n",
        "# Solicita al usuario que ingrese el segundo número y lo convierte a un entero\n",
        "num2 = int(input(\"Ingrese un número: \"))\n",
        "\n",
        "# Imprime el menú de opciones para que el usuario elija la operación a realizar\n",
        "print(\"1. SUMA\")\n",
        "print(\"2. RESTA\")\n",
        "print(\"3. MULTIPLICACIÓN\")\n",
        "print(\"4. DIVISIÓN\")\n",
        "\n",
        "# Solicita al usuario que ingrese la opción deseada y la convierte a un entero\n",
        "op = int(input(\"Ingrese la opción a calcular: \"))\n",
        "\n",
        "# Inicia un bucle while que se ejecuta indefinidamente\n",
        "while True:\n",
        "   # Si la opción es 1, realiza la suma\n",
        "   if op == 1:\n",
        "      suma = num1 + num2\n",
        "      print(suma)\n",
        "      break # Sale del bucle\n",
        "   # Si la opción es 2, realiza la resta\n",
        "   elif op == 2:\n",
        "      resta = num1 - num2\n",
        "      print(resta)\n",
        "      break # Sale del bucle\n",
        "   # Si la opción es 3, realiza la multiplicación\n",
        "   elif op == 3:\n",
        "      multiplicacion = num1 * num2\n",
        "      print(multiplicacion)\n",
        "      break # Sale del bucle\n",
        "   # Si la opción es 4, realiza la división\n",
        "   elif op == 4:\n",
        "      division = num1 / num2\n",
        "      print(division)\n",
        "      break # Sale del bucle\n",
        "   # Si la opción no es válida, imprime un mensaje de error\n",
        "   else:\n",
        "      print(\"Número no válido\")\n",
        "      break # Sale del bucle\n"
      ],
      "metadata": {
        "colab": {
          "base_uri": "https://localhost:8080/"
        },
        "id": "8wYSMPIStbpJ",
        "outputId": "092f40d4-2c8b-49d2-fc88-96dbb354e6c8"
      },
      "execution_count": null,
      "outputs": [
        {
          "output_type": "stream",
          "name": "stdout",
          "text": [
            "Ingrese un numero: 5\n",
            "Ingrese un numero: 2\n",
            "1. SUMA \n",
            "2. RESTA \n",
            "3. MULTIPLICACION \n",
            "4. DIVISION\n",
            "Ingrese la opcion a calcular1\n",
            "7\n"
          ]
        }
      ]
    },
    {
      "cell_type": "markdown",
      "source": [
        "**Número mayor**: Escribe un programa que pida tres números al usuario y determine cuál es el mayor."
      ],
      "metadata": {
        "id": "Bjh9pVb5tsKt"
      }
    },
    {
      "cell_type": "code",
      "source": [
        "# Creamos una lista vacía para almacenar los números ingresados por el usuario\n",
        "numeros = []\n",
        "\n",
        "# Solicitamos al usuario que ingrese tres números\n",
        "for i in range(3):\n",
        "    num = int(input(f\"Ingrese número {i+1}: \"))  # Pedimos al usuario que ingrese un número\n",
        "    numeros.append(num)  # Añadimos el número a la lista\n",
        "\n",
        "# Determinamos el número mayor utilizando la función max()\n",
        "mayor = max(numeros)\n",
        "\n",
        "# Imprimimos el número mayor\n",
        "print(\"El número mayor es:\", mayor)\n",
        "\n",
        "\n"
      ],
      "metadata": {
        "colab": {
          "base_uri": "https://localhost:8080/"
        },
        "id": "ZgYkGnSXtvzr",
        "outputId": "c5dc687a-1425-451d-a91c-2de6dadfe4dc"
      },
      "execution_count": 1,
      "outputs": [
        {
          "output_type": "stream",
          "name": "stdout",
          "text": [
            "Ingrese número 1: 5\n",
            "Ingrese número 2: 2\n",
            "Ingrese número 3: 4\n",
            "El número mayor es: 5\n"
          ]
        }
      ]
    },
    {
      "cell_type": "markdown",
      "source": [
        "**Cálculo del área de un círculo:** Escribe un programa que calcule el área de un círculo a partir de su radio, ingresado por el usuario."
      ],
      "metadata": {
        "id": "4F2_BphYw_5C"
      }
    },
    {
      "cell_type": "code",
      "source": [
        "import math  # Importa el módulo math que contiene constantes y funciones matemáticas\n",
        "\n",
        "# Solicita al usuario que ingrese el radio del círculo y lo convierte a un entero\n",
        "radio = int(input(\"Ingrese el radio del círculo: \"))\n",
        "\n",
        "# Calcula el área del círculo usando la fórmula área = π * radio^2\n",
        "area = (math.pi) * (radio**2)\n",
        "\n",
        "# Imprime el resultado del cálculo del área\n",
        "print(\"Esta es su área: \", area)\n",
        "\n"
      ],
      "metadata": {
        "colab": {
          "base_uri": "https://localhost:8080/"
        },
        "id": "LFxdTBrAxDV-",
        "outputId": "dedcf8a0-cd9a-4d51-d7b1-3f3645056e00"
      },
      "execution_count": null,
      "outputs": [
        {
          "output_type": "stream",
          "name": "stdout",
          "text": [
            "Ingrese el radio del circulo: 5\n",
            "Esta es su area:  78.53981633974483\n"
          ]
        }
      ]
    },
    {
      "cell_type": "markdown",
      "source": [
        "**Conversión de grados Celsius a Fahrenheit:** Escribe un programa que convierta una temperatura dada en grados Celsius a grados Fahrenheit."
      ],
      "metadata": {
        "id": "WLzWRJ__xwby"
      }
    },
    {
      "cell_type": "code",
      "source": [
        "# Pedimos al usuario que ingrese la temperatura en grados Celsius\n",
        "grados = int(input(\"Ingrese los grados Celsius a convertir: \"))\n",
        "\n",
        "# Calculamos la temperatura en grados Fahrenheit\n",
        "fahrenheit = (grados * 1.8) + 32\n",
        "\n",
        "# Mostramos el resultado\n",
        "print(\"Esto son los grados convertidos:\", fahrenheit)"
      ],
      "metadata": {
        "colab": {
          "base_uri": "https://localhost:8080/"
        },
        "id": "FoyCioFH3q8-",
        "outputId": "1d4023ee-21bd-459d-928a-87f653d80004"
      },
      "execution_count": 2,
      "outputs": [
        {
          "output_type": "stream",
          "name": "stdout",
          "text": [
            "Ingrese los grados Celsius a convertir: 5\n",
            "Esto son los grados convertidos: 41.0\n"
          ]
        }
      ]
    },
    {
      "cell_type": "markdown",
      "source": [
        "**Cuenta atrás:** Escribe un programa que cuente hacia atrás desde 10 hasta 0."
      ],
      "metadata": {
        "id": "5Og9FKMgzSP3"
      }
    },
    {
      "cell_type": "code",
      "source": [
        "# Utiliza un bucle for para contar hacia atrás desde 10 hasta 0\n",
        "for i in range(10, -1, -1):\n",
        "    print(i)  # Imprime el número actual\n"
      ],
      "metadata": {
        "colab": {
          "base_uri": "https://localhost:8080/"
        },
        "id": "hq_SshchzT7b",
        "outputId": "60529896-0a62-42cb-9994-88d358e55d2b"
      },
      "execution_count": 4,
      "outputs": [
        {
          "output_type": "stream",
          "name": "stdout",
          "text": [
            "10\n",
            "9\n",
            "8\n",
            "7\n",
            "6\n",
            "5\n",
            "4\n",
            "3\n",
            "2\n",
            "1\n",
            "0\n"
          ]
        }
      ]
    },
    {
      "cell_type": "markdown",
      "source": [
        "**Tabla de multiplicar:** Escribe un programa que muestre la tabla de multiplicar de un número introducido por el usuario."
      ],
      "metadata": {
        "id": "X7rfYQoUzU8p"
      }
    },
    {
      "cell_type": "code",
      "source": [
        "# Pedimos al usuario que ingrese el número a multiplicar\n",
        "num1 = int(input(\"Ingrese el número a multiplicar: \"))\n",
        "\n",
        "# Mostramos la tabla de multiplicar\n",
        "print(\"Tabla de multiplicar del\", num1)\n",
        "for i in range(1, 11):\n",
        "    multiplicacion = num1 * i\n",
        "    print(f\"{num1} x {i} = {multiplicacion}\")\n"
      ],
      "metadata": {
        "id": "v3RZCUvR4Lhe",
        "colab": {
          "base_uri": "https://localhost:8080/"
        },
        "outputId": "58d90a67-a038-4e76-e75c-2cef776f07fd"
      },
      "execution_count": 3,
      "outputs": [
        {
          "output_type": "stream",
          "name": "stdout",
          "text": [
            "Ingrese el número a multiplicar: 5\n",
            "Tabla de multiplicar del 5\n",
            "5 x 1 = 5\n",
            "5 x 2 = 10\n",
            "5 x 3 = 15\n",
            "5 x 4 = 20\n",
            "5 x 5 = 25\n",
            "5 x 6 = 30\n",
            "5 x 7 = 35\n",
            "5 x 8 = 40\n",
            "5 x 9 = 45\n",
            "5 x 10 = 50\n"
          ]
        }
      ]
    },
    {
      "cell_type": "markdown",
      "source": [
        "**Números primos:** Escribe un programa que determine si un número introducido por el usuario es primo"
      ],
      "metadata": {
        "id": "zTrg8LorzhhY"
      }
    },
    {
      "cell_type": "code",
      "source": [
        "# Definimos una función que determina si un número es primo\n",
        "def es_primo(n):\n",
        "    # Si el número es menor o igual a 1, no es primo\n",
        "    if n <= 1:\n",
        "        return False\n",
        "\n",
        "    # Iteramos desde 2 hasta la raíz cuadrada de n (inclusive)\n",
        "    for i in range(2, int(n ** 0.5) + 1):\n",
        "        # Verificamos si n es divisible entre i\n",
        "        if n % i == 0:\n",
        "            # Si es divisible, no es primo\n",
        "            return False\n",
        "\n",
        "    # Si no encontramos ningún divisor, es primo\n",
        "    return True\n",
        "\n",
        "# Pedimos al usuario que introduzca un número\n",
        "numero_usuario = int(input(\"Introduce un número: \"))\n",
        "\n",
        "# Verificamos si el número es primo utilizando la función es_primo()\n",
        "if es_primo(numero_usuario):\n",
        "    # Si es primo, imprimimos un mensaje\n",
        "    print(\"El número\", numero_usuario, \"es primo.\")\n",
        "else:\n",
        "    # Si no es primo, imprimimos otro mensaje\n",
        "    print(\"El número\", numero_usuario, \"no es primo.\")"
      ],
      "metadata": {
        "colab": {
          "base_uri": "https://localhost:8080/"
        },
        "id": "_4K97Ftczm6Q",
        "outputId": "722eb777-30cf-4d6d-f22a-06eaec306c9a"
      },
      "execution_count": 5,
      "outputs": [
        {
          "output_type": "stream",
          "name": "stdout",
          "text": [
            "Introduce un número: 5\n",
            "El número 5 es primo.\n"
          ]
        }
      ]
    },
    {
      "cell_type": "markdown",
      "source": [
        "**Sumar números hasta un límite:** Escribe un programa que sume todos los números naturales hasta un número límite introducido por el usuario."
      ],
      "metadata": {
        "id": "mGIcowazz3lq"
      }
    },
    {
      "cell_type": "code",
      "source": [
        "# Pedimos al usuario que introduzca un número límite\n",
        "numero_limite = int(input(\"Introduce un número límite: \"))\n",
        "\n",
        "# Inicializamos la variable sum a 0\n",
        "sum = 0\n",
        "\n",
        "# Creamos un bucle que itere desde 1 hasta el número límite\n",
        "for i in range(1, numero_limite + 1):\n",
        "    # En cada iteración, sumamos el valor de i a la variable sum\n",
        "    sum += i\n",
        "\n",
        "# Imprimimos el resultado\n",
        "print(\"La suma de los números naturales hasta\", numero_limite, \"es:\", sum)"
      ],
      "metadata": {
        "colab": {
          "base_uri": "https://localhost:8080/"
        },
        "id": "w4tkp9lHz-Xr",
        "outputId": "1df25036-b1ef-4735-a024-579786bc7c0b"
      },
      "execution_count": 6,
      "outputs": [
        {
          "output_type": "stream",
          "name": "stdout",
          "text": [
            "Introduce un número límite: 10\n",
            "La suma de los números naturales hasta 10 es: 55\n"
          ]
        }
      ]
    },
    {
      "cell_type": "markdown",
      "source": [
        "Invertir una cadena: Escribe un programa que invierta una cadena introducida por el usuario."
      ],
      "metadata": {
        "id": "vmRfsvLX0ARb"
      }
    },
    {
      "cell_type": "code",
      "source": [
        "# Solicita al usuario que introduzca una cadena\n",
        "cadena = input(\"Ingrese una cadena: \")\n",
        "\n",
        "# Invierte la cadena utilizando slicing\n",
        "cadena_invertida = cadena[::-1]\n",
        "\n",
        "# Muestra la cadena invertida\n",
        "print(\"La cadena invertida es:\", cadena_invertida)\n"
      ],
      "metadata": {
        "colab": {
          "base_uri": "https://localhost:8080/"
        },
        "id": "-i0kR60J0Iz8",
        "outputId": "989abb39-530b-4cc7-8876-283230bc8a50"
      },
      "execution_count": 7,
      "outputs": [
        {
          "output_type": "stream",
          "name": "stdout",
          "text": [
            "Ingrese una cadena: hola\n",
            "La cadena invertida es: aloh\n"
          ]
        }
      ]
    },
    {
      "cell_type": "markdown",
      "source": [
        "**Palíndromo:** Escribe un programa que determine si una cadena introducida por el usuario es un palíndromo."
      ],
      "metadata": {
        "id": "RFee_MoB0Ubk"
      }
    },
    {
      "cell_type": "code",
      "source": [
        "# Solicita al usuario que introduzca una cadena\n",
        "cadena = input(\"Ingrese una cadena: \")\n",
        "\n",
        "# Normaliza la cadena eliminando espacios y convirtiendo a minúsculas\n",
        "cadena_normalizada = cadena.replace(\" \", \"\").lower()\n",
        "\n",
        "# Verifica si la cadena normalizada es igual a su versión invertida\n",
        "es_palindromo = cadena_normalizada == cadena_normalizada[::-1]\n",
        "\n",
        "# Muestra el resultado\n",
        "if es_palindromo:\n",
        "    print(\"La cadena es un palíndromo.\")\n",
        "else:\n",
        "    print(\"La cadena no es un palíndromo.\")\n"
      ],
      "metadata": {
        "colab": {
          "base_uri": "https://localhost:8080/"
        },
        "id": "jaKNRdNe0V-x",
        "outputId": "24bc69f6-e2ef-4d25-c252-69ba1f9ce1bc"
      },
      "execution_count": 8,
      "outputs": [
        {
          "output_type": "stream",
          "name": "stdout",
          "text": [
            "Ingrese una cadena: hola\n",
            "La cadena no es un palíndromo.\n"
          ]
        }
      ]
    },
    {
      "cell_type": "markdown",
      "source": [
        "**Factorial de un número:** Escribe un programa que calcule el factorial de un número introducido por el usuario."
      ],
      "metadata": {
        "id": "BIXfWcZX0aEt"
      }
    },
    {
      "cell_type": "code",
      "source": [
        "# Pedimos al usuario que introduzca un número\n",
        "numero_usuario = int(input(\"Introduce un número: \"))\n",
        "\n",
        "# Inicializamos la variable factorial a 1\n",
        "factorial = 1\n",
        "\n",
        "# Creamos un bucle que itere desde 1 hasta el número introducido\n",
        "for i in range(1, numero_usuario + 1):\n",
        "    # En cada iteración, multiplicamos el valor de i por la variable factorial\n",
        "    factorial *= i\n",
        "\n",
        "# Imprimimos el resultado\n",
        "print(\"El factorial de\", numero_usuario, \"es:\", factorial)"
      ],
      "metadata": {
        "id": "Wj0pKFOf0bpe"
      },
      "execution_count": null,
      "outputs": []
    },
    {
      "cell_type": "markdown",
      "source": [
        "Generar números aleatorios: Escribe un programa que genere y muestre 5 números aleatorios entre 1 y 100."
      ],
      "metadata": {
        "id": "791wWnTx0nKr"
      }
    },
    {
      "cell_type": "code",
      "source": [
        "import random\n",
        "\n",
        "# Genera 5 números aleatorios entre 1 y 100\n",
        "numeros_aleatorios = [random.randint(1, 100) for _ in range(5)]\n",
        "\n",
        "# Muestra los números aleatorios generados\n",
        "print(\"Números aleatorios generados:\")\n",
        "for numero in numeros_aleatorios:\n",
        "    print(numero)\n"
      ],
      "metadata": {
        "id": "f0ZIa1Cx0qL0"
      },
      "execution_count": null,
      "outputs": []
    },
    {
      "cell_type": "markdown",
      "source": [
        "**Calculadora de índice de masa corporal (IMC)**:  Escribe un programa que calcule el índice de masa corporal (IMC) a partir del peso y la altura introducidos por el usuario.\n",
        "\n",
        "\n"
      ],
      "metadata": {
        "id": "b6R9S2Nj0snB"
      }
    },
    {
      "cell_type": "code",
      "source": [
        "# Pedimos al usuario que introduzca su peso en kilogramos\n",
        "peso_usuario = float(input(\"Introduce tu peso en kilogramos: \"))\n",
        "\n",
        "# Pedimos al usuario que introduzca su altura en metros\n",
        "altura_usuario = float(input(\"Introduce tu altura en metros: \"))\n",
        "\n",
        "# Calculamos el IMC utilizando la fórmula: IMC = peso / altura^2\n",
        "imc = peso_usuario / (altura_usuario ** 2)\n",
        "\n",
        "# Redondeamos el IMC a dos decimales\n",
        "imc_redondeado = round(imc, 2)\n",
        "\n",
        "# Imprimimos el resultado\n",
        "print(\"Tu índice de masa corporal (IMC) es:\", imc_redondeado)\n",
        "\n",
        "# Clasificamos el IMC según la categoría correspondiente\n",
        "if imc_redondeado < 18.5:\n",
        "    print(\"Tu categoría es: Bajo peso\")\n",
        "elif imc_redondeado < 25:\n",
        "    print(\"Tu categoría es: Peso normal\")\n",
        "elif imc_redondeado < 30:\n",
        "    print(\"Tu categoría es: Sobrepeso\")\n",
        "else:\n",
        "    print(\"Tu categoría es: Obesidad\")"
      ],
      "metadata": {
        "id": "PgJMC9y203Mg"
      },
      "execution_count": null,
      "outputs": []
    }
  ]
}