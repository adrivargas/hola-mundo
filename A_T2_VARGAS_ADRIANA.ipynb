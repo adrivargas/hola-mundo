{
  "nbformat": 4,
  "nbformat_minor": 0,
  "metadata": {
    "colab": {
      "provenance": [],
      "authorship_tag": "ABX9TyP+V8PViCNgcn3F6LZvy+Ck",
      "include_colab_link": true
    },
    "kernelspec": {
      "name": "python3",
      "display_name": "Python 3"
    },
    "language_info": {
      "name": "python"
    }
  },
  "cells": [
    {
      "cell_type": "markdown",
      "metadata": {
        "id": "view-in-github",
        "colab_type": "text"
      },
      "source": [
        "<a href=\"https://colab.research.google.com/github/adrivargas/hola-mundo/blob/main/A_T2_VARGAS_ADRIANA.ipynb\" target=\"_parent\"><img src=\"https://colab.research.google.com/assets/colab-badge.svg\" alt=\"Open In Colab\"/></a>"
      ]
    },
    {
      "cell_type": "markdown",
      "source": [
        "**Trabajo 2 TIC**"
      ],
      "metadata": {
        "id": "JB6Y92eRrspv"
      }
    },
    {
      "cell_type": "code",
      "source": [],
      "metadata": {
        "id": "3QuRMEe_seKd"
      },
      "execution_count": null,
      "outputs": []
    },
    {
      "cell_type": "code",
      "execution_count": 1,
      "metadata": {
        "colab": {
          "base_uri": "https://localhost:8080/"
        },
        "id": "ozYwpzoNrfOp",
        "outputId": "d22e4bef-87b1-49c5-92e5-426e60138608"
      },
      "outputs": [
        {
          "output_type": "stream",
          "name": "stdout",
          "text": [
            "Hola mundo\n"
          ]
        }
      ],
      "source": [
        "print (\"Hola mundo\")"
      ]
    },
    {
      "cell_type": "markdown",
      "source": [
        "**Suma de dos números:** Escribe un programa que pida al usuario dos números y los sume.\n"
      ],
      "metadata": {
        "id": "bFjPA8W4szQ3"
      }
    },
    {
      "cell_type": "code",
      "source": [
        "num1 = int(input(\"Ingrese un numero: \"))\n",
        "num2 = int(input(\"Ingrese un numero: \"))\n",
        "\n",
        "suma = num1+num2\n",
        "\n",
        "print(suma)"
      ],
      "metadata": {
        "colab": {
          "base_uri": "https://localhost:8080/"
        },
        "id": "MboKtUAqsM8u",
        "outputId": "182fe28f-9cc9-4907-e064-6c9d45a7f134"
      },
      "execution_count": 2,
      "outputs": [
        {
          "output_type": "stream",
          "name": "stdout",
          "text": [
            "Ingrese un numero: 5\n",
            "Ingrese un numero: 2\n",
            "7\n"
          ]
        }
      ]
    },
    {
      "cell_type": "markdown",
      "source": [
        "**Par o Impar:** Escribe un programa que determine si un número introducido por el usuario es par o impar."
      ],
      "metadata": {
        "id": "TjAjbkqus3k3"
      }
    },
    {
      "cell_type": "code",
      "source": [
        "num1 = int(input(\"Ingrese un numero: \"))\n",
        "\n",
        "if num1%2 == 0:\n",
        "  print(\"El numero es par\")\n",
        "else:\n",
        "  print(\"El numero es impar\")"
      ],
      "metadata": {
        "colab": {
          "base_uri": "https://localhost:8080/"
        },
        "id": "3dfjctQJtGGr",
        "outputId": "61a04201-55e2-434d-eff6-16c7b6d578a5"
      },
      "execution_count": 4,
      "outputs": [
        {
          "output_type": "stream",
          "name": "stdout",
          "text": [
            "Ingrese un numero: 2\n",
            "El numero es par: \n"
          ]
        }
      ]
    },
    {
      "cell_type": "markdown",
      "source": [
        "**Calculadora básica**: Escribe un programa que realice operaciones básicas (suma, resta, multiplicación y división) entre dos números introducidos por el usuario."
      ],
      "metadata": {
        "id": "iJtRY5SutXRN"
      }
    },
    {
      "cell_type": "code",
      "source": [
        "num1 = int(input(\"Ingrese un numero: \"))\n",
        "num2 = int(input(\"Ingrese un numero: \"))\n",
        "\n",
        "print(\"1. SUMA \")\n",
        "print(\"2. RESTA \")\n",
        "print(\"3. MULTIPLICACION \")\n",
        "print(\"4. DIVISION\")\n",
        "\n",
        "op = int(input(\"Ingrese la opcion a calcular\"))\n",
        "\n",
        "while True:\n",
        "   if op == 1:\n",
        "    suma = num1+num2\n",
        "    print(suma)\n",
        "    break\n",
        "   elif op == 2:\n",
        "    resta = num1-num2\n",
        "    print(resta)\n",
        "    break\n",
        "   elif op == 3:\n",
        "    multiplicacion = num1*num2\n",
        "    print(multiplicacion)\n",
        "    break\n",
        "   elif op == 4:\n",
        "    division = num1/num2\n",
        "    print(division)\n",
        "    break\n",
        "   else:\n",
        "    print(\"Numero no valido \")\n",
        "    break"
      ],
      "metadata": {
        "colab": {
          "base_uri": "https://localhost:8080/"
        },
        "id": "8wYSMPIStbpJ",
        "outputId": "092f40d4-2c8b-49d2-fc88-96dbb354e6c8"
      },
      "execution_count": 8,
      "outputs": [
        {
          "output_type": "stream",
          "name": "stdout",
          "text": [
            "Ingrese un numero: 5\n",
            "Ingrese un numero: 2\n",
            "1. SUMA \n",
            "2. RESTA \n",
            "3. MULTIPLICACION \n",
            "4. DIVISION\n",
            "Ingrese la opcion a calcular1\n",
            "7\n"
          ]
        }
      ]
    },
    {
      "cell_type": "markdown",
      "source": [
        "**Número mayor**: Escribe un programa que pida tres números al usuario y determine cuál es el mayor."
      ],
      "metadata": {
        "id": "Bjh9pVb5tsKt"
      }
    },
    {
      "cell_type": "code",
      "source": [
        "for i in range(3):\n",
        "  num1 = int(input(\"Ingrese un numero: \"))\n",
        "  if num1 > i:\n",
        "     if num1 > num1:\n",
        "      print(\"Este es el numero mayor: \",num1)\n",
        "  elif i > num1:\n",
        "    if i>i:\n",
        "      print(\"Este es el numero mayor: \",i)\n",
        "\n"
      ],
      "metadata": {
        "colab": {
          "base_uri": "https://localhost:8080/"
        },
        "id": "ZgYkGnSXtvzr",
        "outputId": "1d4ca896-fd98-4a96-8a15-51fb58ff7c74"
      },
      "execution_count": 14,
      "outputs": [
        {
          "name": "stdout",
          "output_type": "stream",
          "text": [
            "Ingrese un numero: 5\n",
            "Ingrese un numero: 2\n",
            "Ingrese un numero: 3\n"
          ]
        }
      ]
    },
    {
      "cell_type": "markdown",
      "source": [
        "**Cálculo del área de un círculo:** Escribe un programa que calcule el área de un círculo a partir de su radio, ingresado por el usuario."
      ],
      "metadata": {
        "id": "4F2_BphYw_5C"
      }
    },
    {
      "cell_type": "code",
      "source": [
        "import math\n",
        "radio = int(input(\"Ingrese el radio del circulo: \"))\n",
        "area = (math.pi)*(radio**2)\n",
        "print(\"Esta es su area: \", area)\n"
      ],
      "metadata": {
        "colab": {
          "base_uri": "https://localhost:8080/"
        },
        "id": "LFxdTBrAxDV-",
        "outputId": "dedcf8a0-cd9a-4d51-d7b1-3f3645056e00"
      },
      "execution_count": 17,
      "outputs": [
        {
          "output_type": "stream",
          "name": "stdout",
          "text": [
            "Ingrese el radio del circulo: 5\n",
            "Esta es su area:  78.53981633974483\n"
          ]
        }
      ]
    },
    {
      "cell_type": "markdown",
      "source": [
        "**Conversión de grados Celsius a Fahrenheit:** Escribe un programa que convierta una temperatura dada en grados Celsius a grados Fahrenheit."
      ],
      "metadata": {
        "id": "WLzWRJ__xwby"
      }
    },
    {
      "cell_type": "code",
      "source": [
        "grado = int(input(\"Ingrese los grados a convertir: \"))\n",
        "grado1 = (grado*1.8)+32\n",
        "print(\"Estos son los grados: \",grado1)\n"
      ],
      "metadata": {
        "colab": {
          "base_uri": "https://localhost:8080/",
          "height": 339
        },
        "id": "UkAMnnVbx0RH",
        "outputId": "7c44c0b0-fff4-4e80-c5e9-edf5b2b8b7f8"
      },
      "execution_count": 33,
      "outputs": [
        {
          "output_type": "error",
          "ename": "KeyboardInterrupt",
          "evalue": "Interrupted by user",
          "traceback": [
            "\u001b[0;31m---------------------------------------------------------------------------\u001b[0m",
            "\u001b[0;31mKeyboardInterrupt\u001b[0m                         Traceback (most recent call last)",
            "\u001b[0;32m<ipython-input-33-b7f12ad49aff>\u001b[0m in \u001b[0;36m<cell line: 1>\u001b[0;34m()\u001b[0m\n\u001b[0;32m----> 1\u001b[0;31m \u001b[0mgrado\u001b[0m \u001b[0;34m=\u001b[0m \u001b[0mint\u001b[0m\u001b[0;34m(\u001b[0m\u001b[0minput\u001b[0m\u001b[0;34m(\u001b[0m\u001b[0;34m\"Ingrese los grados a convertir: \"\u001b[0m\u001b[0;34m)\u001b[0m\u001b[0;34m)\u001b[0m\u001b[0;34m\u001b[0m\u001b[0;34m\u001b[0m\u001b[0m\n\u001b[0m\u001b[1;32m      2\u001b[0m \u001b[0mgrado1\u001b[0m \u001b[0;34m=\u001b[0m \u001b[0;34m(\u001b[0m\u001b[0mgrado\u001b[0m\u001b[0;34m*\u001b[0m\u001b[0;36m1.8\u001b[0m\u001b[0;34m)\u001b[0m\u001b[0;34m+\u001b[0m\u001b[0;36m32\u001b[0m\u001b[0;34m\u001b[0m\u001b[0;34m\u001b[0m\u001b[0m\n\u001b[1;32m      3\u001b[0m \u001b[0mprint\u001b[0m\u001b[0;34m(\u001b[0m\u001b[0;34m\"Estos son los grados: \"\u001b[0m\u001b[0;34m,\u001b[0m\u001b[0mgrado1\u001b[0m\u001b[0;34m)\u001b[0m\u001b[0;34m\u001b[0m\u001b[0;34m\u001b[0m\u001b[0m\n",
            "\u001b[0;32m/usr/local/lib/python3.10/dist-packages/ipykernel/kernelbase.py\u001b[0m in \u001b[0;36mraw_input\u001b[0;34m(self, prompt)\u001b[0m\n\u001b[1;32m    849\u001b[0m                 \u001b[0;34m\"raw_input was called, but this frontend does not support input requests.\"\u001b[0m\u001b[0;34m\u001b[0m\u001b[0;34m\u001b[0m\u001b[0m\n\u001b[1;32m    850\u001b[0m             )\n\u001b[0;32m--> 851\u001b[0;31m         return self._input_request(str(prompt),\n\u001b[0m\u001b[1;32m    852\u001b[0m             \u001b[0mself\u001b[0m\u001b[0;34m.\u001b[0m\u001b[0m_parent_ident\u001b[0m\u001b[0;34m,\u001b[0m\u001b[0;34m\u001b[0m\u001b[0;34m\u001b[0m\u001b[0m\n\u001b[1;32m    853\u001b[0m             \u001b[0mself\u001b[0m\u001b[0;34m.\u001b[0m\u001b[0m_parent_header\u001b[0m\u001b[0;34m,\u001b[0m\u001b[0;34m\u001b[0m\u001b[0;34m\u001b[0m\u001b[0m\n",
            "\u001b[0;32m/usr/local/lib/python3.10/dist-packages/ipykernel/kernelbase.py\u001b[0m in \u001b[0;36m_input_request\u001b[0;34m(self, prompt, ident, parent, password)\u001b[0m\n\u001b[1;32m    893\u001b[0m             \u001b[0;32mexcept\u001b[0m \u001b[0mKeyboardInterrupt\u001b[0m\u001b[0;34m:\u001b[0m\u001b[0;34m\u001b[0m\u001b[0;34m\u001b[0m\u001b[0m\n\u001b[1;32m    894\u001b[0m                 \u001b[0;31m# re-raise KeyboardInterrupt, to truncate traceback\u001b[0m\u001b[0;34m\u001b[0m\u001b[0;34m\u001b[0m\u001b[0m\n\u001b[0;32m--> 895\u001b[0;31m                 \u001b[0;32mraise\u001b[0m \u001b[0mKeyboardInterrupt\u001b[0m\u001b[0;34m(\u001b[0m\u001b[0;34m\"Interrupted by user\"\u001b[0m\u001b[0;34m)\u001b[0m \u001b[0;32mfrom\u001b[0m \u001b[0;32mNone\u001b[0m\u001b[0;34m\u001b[0m\u001b[0;34m\u001b[0m\u001b[0m\n\u001b[0m\u001b[1;32m    896\u001b[0m             \u001b[0;32mexcept\u001b[0m \u001b[0mException\u001b[0m \u001b[0;32mas\u001b[0m \u001b[0me\u001b[0m\u001b[0;34m:\u001b[0m\u001b[0;34m\u001b[0m\u001b[0;34m\u001b[0m\u001b[0m\n\u001b[1;32m    897\u001b[0m                 \u001b[0mself\u001b[0m\u001b[0;34m.\u001b[0m\u001b[0mlog\u001b[0m\u001b[0;34m.\u001b[0m\u001b[0mwarning\u001b[0m\u001b[0;34m(\u001b[0m\u001b[0;34m\"Invalid Message:\"\u001b[0m\u001b[0;34m,\u001b[0m \u001b[0mexc_info\u001b[0m\u001b[0;34m=\u001b[0m\u001b[0;32mTrue\u001b[0m\u001b[0;34m)\u001b[0m\u001b[0;34m\u001b[0m\u001b[0;34m\u001b[0m\u001b[0m\n",
            "\u001b[0;31mKeyboardInterrupt\u001b[0m: Interrupted by user"
          ]
        }
      ]
    },
    {
      "cell_type": "markdown",
      "source": [],
      "metadata": {
        "id": "X7rfYQoUzU8p"
      }
    },
    {
      "cell_type": "markdown",
      "source": [],
      "metadata": {
        "id": "Cxxb6s_2zVlj"
      }
    }
  ]
}